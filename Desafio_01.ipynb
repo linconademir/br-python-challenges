{
 "cells": [
  {
   "cell_type": "markdown",
   "metadata": {
    "colab_type": "text",
    "id": "view-in-github"
   },
   "source": [
    "![](https://i.imgur.com/YX6UATs.png)"
   ]
  },
  {
   "cell_type": "markdown",
   "metadata": {
    "colab_type": "text",
    "id": "SbLLE9q1eldC"
   },
   "source": [
    "### Desafio 1\n",
    "\n",
    "Escreva um programa em Python para contabilizar a quantidade de ocorrências de cada palavra."
   ]
  },
  {
   "cell_type": "code",
   "execution_count": 45,
   "metadata": {
    "colab": {},
    "colab_type": "code",
    "id": "WhtbdwFseldD"
   },
   "outputs": [],
   "source": [
    "\n",
    "palavras = [\n",
    "   'red', 'green', 'black', 'pink', 'black', 'white', 'black', 'eyes',\n",
    "   'white', 'black', 'orange', 'pink', 'pink', 'red', 'red', 'white', 'orange',\n",
    "   'white', \"black\", 'pink', 'green', 'green', 'pink', 'green', 'pink',\n",
    "   'white', 'orange', \"orange\", 'red'\n",
    "]\n",
    "\n",
    "# Seu código"
   ]
  },
  {
   "cell_type": "code",
   "execution_count": 46,
   "metadata": {
    "colab": {},
    "colab_type": "code",
    "id": "M58o1U9KfAxa"
   },
   "outputs": [
    {
     "name": "stdout",
     "output_type": "stream",
     "text": [
      "[('pink', 6), ('black', 5), ('white', 5), ('red', 4), ('green', 4), ('orange', 4), ('eyes', 1)]\n"
     ]
    }
   ],
   "source": [
    "#utiliznado COUNTER\n",
    "from collections import Counter\n",
    "aCounter = Counter(palavras)\n",
    "print(aCounter.most_common())"
   ]
  },
  {
   "cell_type": "code",
   "execution_count": 47,
   "metadata": {},
   "outputs": [
    {
     "name": "stdout",
     "output_type": "stream",
     "text": [
      "red: 4\n",
      "green: 4\n",
      "black: 5\n",
      "pink: 6\n",
      "white: 5\n",
      "eyes: 1\n",
      "orange: 4\n"
     ]
    }
   ],
   "source": [
    "#utilizando DEFAULTDICT\n",
    "from collections import defaultdict\n",
    "aDefaultDicter = defaultdict(int)\n",
    "for palavra in palavras:\n",
    "       aDefaultDicter[palavra] += 1\n",
    "\n",
    "for (c, v) in aDefaultDicter.items():\n",
    "    print(c + \": \" + str(v))"
   ]
  },
  {
   "cell_type": "code",
   "execution_count": 48,
   "metadata": {},
   "outputs": [
    {
     "name": "stdout",
     "output_type": "stream",
     "text": [
      "white: 5\n",
      "green: 4\n",
      "black: 5\n",
      "orange: 4\n",
      "red: 4\n",
      "eyes: 1\n",
      "pink: 6\n"
     ]
    }
   ],
   "source": [
    "#Outra forma de se fazer\n",
    "for palavra in set(palavras):\n",
    "    quantidade = sum([1 for p in palavras if p==palavra])\n",
    "    print(f\"{palavra}: {quantidade}\")"
   ]
  },
  {
   "cell_type": "code",
   "execution_count": 51,
   "metadata": {},
   "outputs": [
    {
     "name": "stdout",
     "output_type": "stream",
     "text": [
      "white: 5\n",
      "green: 4\n",
      "black: 5\n",
      "orange: 4\n",
      "red: 4\n",
      "eyes: 1\n",
      "pink: 6\n"
     ]
    }
   ],
   "source": [
    "#Outra forma de se fazer\n",
    "for x in set(sorted(palavras)):\n",
    "    print(f\"{x}: {palavras.count(x)}\")"
   ]
  },
  {
   "cell_type": "code",
   "execution_count": 57,
   "metadata": {},
   "outputs": [
    {
     "data": {
      "text/plain": [
       "{'white': 5,\n",
       " 'green': 4,\n",
       " 'black': 5,\n",
       " 'orange': 4,\n",
       " 'red': 4,\n",
       " 'eyes': 1,\n",
       " 'pink': 6}"
      ]
     },
     "execution_count": 57,
     "metadata": {},
     "output_type": "execute_result"
    }
   ],
   "source": [
    "#Outra forma de se fazer\n",
    "palavras_unicas = set(palavras)\n",
    "ocorrencias = {palavra:palavras.count(palavra) for palavra in palavras_unicas}\n",
    "ocorrencias"
   ]
  }
 ],
 "metadata": {
  "anaconda-cloud": {},
  "colab": {
   "include_colab_link": true,
   "name": "Desafio 1.ipynb",
   "provenance": []
  },
  "kernelspec": {
   "display_name": "Python 3",
   "language": "python",
   "name": "python3"
  },
  "language_info": {
   "codemirror_mode": {
    "name": "ipython",
    "version": 3
   },
   "file_extension": ".py",
   "mimetype": "text/x-python",
   "name": "python",
   "nbconvert_exporter": "python",
   "pygments_lexer": "ipython3",
   "version": "3.8.5"
  }
 },
 "nbformat": 4,
 "nbformat_minor": 4
}
